{
 "metadata": {
  "language_info": {
   "codemirror_mode": {
    "name": "ipython",
    "version": 3
   },
   "file_extension": ".py",
   "mimetype": "text/x-python",
   "name": "python",
   "nbconvert_exporter": "python",
   "pygments_lexer": "ipython3",
   "version": "3.7.6-final"
  },
  "orig_nbformat": 2,
  "kernelspec": {
   "name": "python3",
   "display_name": "Python 3"
  }
 },
 "nbformat": 4,
 "nbformat_minor": 2,
 "cells": [
  {
   "cell_type": "code",
   "execution_count": 161,
   "metadata": {},
   "outputs": [],
   "source": [
    "import pandas as pd\n",
    "import numpy as np\n",
    "from tqdm.notebook import tqdm\n",
    "import sklearn\n",
    "from sklearn.preprocessing import LabelEncoder\n",
    "from sklearn.model_selection import StratifiedKFold\n",
    "import lightgbm as lgb"
   ]
  },
  {
   "cell_type": "code",
   "execution_count": 162,
   "metadata": {},
   "outputs": [],
   "source": [
    "annal_report=pd.read_csv('train/annual_report_info.csv')\n",
    "entprise_info=pd.read_csv('train/entprise_info.csv')\n",
    "entprise_evaluate=pd.read_csv(\"entprise_evaluate.csv\")"
   ]
  },
  {
   "cell_type": "code",
   "execution_count": 163,
   "metadata": {},
   "outputs": [],
   "source": [
    "del annal_report['STATE']#这玩意没啥用 都是0 删掉删掉\n",
    "del annal_report['MEMNUM']#也没用\n",
    "del annal_report['FARNUM']#一样没用\n",
    "del annal_report['ANNREDMEMNUM']\n",
    "del annal_report['ANNNEWMEMNUM']"
   ]
  },
  {
   "cell_type": "code",
   "execution_count": 164,
   "metadata": {},
   "outputs": [
    {
     "output_type": "execute_result",
     "data": {
      "text/plain": [
       "          ANCHEYEAR         FUNDAM        EMPNUM    EMPNUMSIGN     COLGRANUM  \\\n",
       "count  22550.000000    5702.000000  22535.000000  16833.000000  20041.000000   \n",
       "mean    2016.805144     128.334488     11.789927      1.835799      0.894017   \n",
       "std        1.084357    6784.691190    142.248117      0.370469      6.349607   \n",
       "min     2015.000000       0.000000      0.000000      1.000000      0.000000   \n",
       "25%     2016.000000       3.000000      2.000000      2.000000      0.000000   \n",
       "50%     2017.000000       7.150000      3.000000      2.000000      0.000000   \n",
       "75%     2018.000000      10.000000      5.000000      2.000000      1.000000   \n",
       "max     2018.000000  500000.000000  12045.000000      2.000000    660.000000   \n",
       "\n",
       "          RETSOLNUM     DISPERNUM        UNENUM    COLEMPLNUM    RETEMPLNUM  \\\n",
       "count  20041.000000  20041.000000  20041.000000  20041.000000  20041.000000   \n",
       "mean       0.059029      0.017115      0.316801      1.687690      0.104436   \n",
       "std        0.955736      0.147353      2.516092     10.314762      1.252551   \n",
       "min        0.000000      0.000000      0.000000      0.000000      0.000000   \n",
       "25%        0.000000      0.000000      0.000000      0.000000      0.000000   \n",
       "50%        0.000000      0.000000      0.000000      0.000000      0.000000   \n",
       "75%        0.000000      0.000000      0.000000      1.000000      0.000000   \n",
       "max      120.000000      5.000000    205.000000    660.000000     80.000000   \n",
       "\n",
       "         DISEMPLNUM    UNEEMPLNUM    WEBSITSIGN  FORINVESTSIGN  STOCKTRANSIGN  \\\n",
       "count  20041.000000  20041.000000  22517.000000   16489.000000   13507.000000   \n",
       "mean       0.037972      0.808243      1.963272       1.941173       1.946028   \n",
       "std        0.551450      6.136716      0.188097       0.235308       0.225971   \n",
       "min        0.000000      0.000000      1.000000       1.000000       1.000000   \n",
       "25%        0.000000      0.000000      2.000000       2.000000       2.000000   \n",
       "50%        0.000000      0.000000      2.000000       2.000000       2.000000   \n",
       "75%        0.000000      0.000000      2.000000       2.000000       2.000000   \n",
       "max       42.000000    340.000000      2.000000       2.000000       2.000000   \n",
       "\n",
       "           PUBSTATE  \n",
       "count  22530.000000  \n",
       "mean       2.709632  \n",
       "std        0.560448  \n",
       "min        1.000000  \n",
       "25%        3.000000  \n",
       "50%        3.000000  \n",
       "75%        3.000000  \n",
       "max        3.000000  "
      ],
      "text/html": "<div>\n<style scoped>\n    .dataframe tbody tr th:only-of-type {\n        vertical-align: middle;\n    }\n\n    .dataframe tbody tr th {\n        vertical-align: top;\n    }\n\n    .dataframe thead th {\n        text-align: right;\n    }\n</style>\n<table border=\"1\" class=\"dataframe\">\n  <thead>\n    <tr style=\"text-align: right;\">\n      <th></th>\n      <th>ANCHEYEAR</th>\n      <th>FUNDAM</th>\n      <th>EMPNUM</th>\n      <th>EMPNUMSIGN</th>\n      <th>COLGRANUM</th>\n      <th>RETSOLNUM</th>\n      <th>DISPERNUM</th>\n      <th>UNENUM</th>\n      <th>COLEMPLNUM</th>\n      <th>RETEMPLNUM</th>\n      <th>DISEMPLNUM</th>\n      <th>UNEEMPLNUM</th>\n      <th>WEBSITSIGN</th>\n      <th>FORINVESTSIGN</th>\n      <th>STOCKTRANSIGN</th>\n      <th>PUBSTATE</th>\n    </tr>\n  </thead>\n  <tbody>\n    <tr>\n      <th>count</th>\n      <td>22550.000000</td>\n      <td>5702.000000</td>\n      <td>22535.000000</td>\n      <td>16833.000000</td>\n      <td>20041.000000</td>\n      <td>20041.000000</td>\n      <td>20041.000000</td>\n      <td>20041.000000</td>\n      <td>20041.000000</td>\n      <td>20041.000000</td>\n      <td>20041.000000</td>\n      <td>20041.000000</td>\n      <td>22517.000000</td>\n      <td>16489.000000</td>\n      <td>13507.000000</td>\n      <td>22530.000000</td>\n    </tr>\n    <tr>\n      <th>mean</th>\n      <td>2016.805144</td>\n      <td>128.334488</td>\n      <td>11.789927</td>\n      <td>1.835799</td>\n      <td>0.894017</td>\n      <td>0.059029</td>\n      <td>0.017115</td>\n      <td>0.316801</td>\n      <td>1.687690</td>\n      <td>0.104436</td>\n      <td>0.037972</td>\n      <td>0.808243</td>\n      <td>1.963272</td>\n      <td>1.941173</td>\n      <td>1.946028</td>\n      <td>2.709632</td>\n    </tr>\n    <tr>\n      <th>std</th>\n      <td>1.084357</td>\n      <td>6784.691190</td>\n      <td>142.248117</td>\n      <td>0.370469</td>\n      <td>6.349607</td>\n      <td>0.955736</td>\n      <td>0.147353</td>\n      <td>2.516092</td>\n      <td>10.314762</td>\n      <td>1.252551</td>\n      <td>0.551450</td>\n      <td>6.136716</td>\n      <td>0.188097</td>\n      <td>0.235308</td>\n      <td>0.225971</td>\n      <td>0.560448</td>\n    </tr>\n    <tr>\n      <th>min</th>\n      <td>2015.000000</td>\n      <td>0.000000</td>\n      <td>0.000000</td>\n      <td>1.000000</td>\n      <td>0.000000</td>\n      <td>0.000000</td>\n      <td>0.000000</td>\n      <td>0.000000</td>\n      <td>0.000000</td>\n      <td>0.000000</td>\n      <td>0.000000</td>\n      <td>0.000000</td>\n      <td>1.000000</td>\n      <td>1.000000</td>\n      <td>1.000000</td>\n      <td>1.000000</td>\n    </tr>\n    <tr>\n      <th>25%</th>\n      <td>2016.000000</td>\n      <td>3.000000</td>\n      <td>2.000000</td>\n      <td>2.000000</td>\n      <td>0.000000</td>\n      <td>0.000000</td>\n      <td>0.000000</td>\n      <td>0.000000</td>\n      <td>0.000000</td>\n      <td>0.000000</td>\n      <td>0.000000</td>\n      <td>0.000000</td>\n      <td>2.000000</td>\n      <td>2.000000</td>\n      <td>2.000000</td>\n      <td>3.000000</td>\n    </tr>\n    <tr>\n      <th>50%</th>\n      <td>2017.000000</td>\n      <td>7.150000</td>\n      <td>3.000000</td>\n      <td>2.000000</td>\n      <td>0.000000</td>\n      <td>0.000000</td>\n      <td>0.000000</td>\n      <td>0.000000</td>\n      <td>0.000000</td>\n      <td>0.000000</td>\n      <td>0.000000</td>\n      <td>0.000000</td>\n      <td>2.000000</td>\n      <td>2.000000</td>\n      <td>2.000000</td>\n      <td>3.000000</td>\n    </tr>\n    <tr>\n      <th>75%</th>\n      <td>2018.000000</td>\n      <td>10.000000</td>\n      <td>5.000000</td>\n      <td>2.000000</td>\n      <td>1.000000</td>\n      <td>0.000000</td>\n      <td>0.000000</td>\n      <td>0.000000</td>\n      <td>1.000000</td>\n      <td>0.000000</td>\n      <td>0.000000</td>\n      <td>0.000000</td>\n      <td>2.000000</td>\n      <td>2.000000</td>\n      <td>2.000000</td>\n      <td>3.000000</td>\n    </tr>\n    <tr>\n      <th>max</th>\n      <td>2018.000000</td>\n      <td>500000.000000</td>\n      <td>12045.000000</td>\n      <td>2.000000</td>\n      <td>660.000000</td>\n      <td>120.000000</td>\n      <td>5.000000</td>\n      <td>205.000000</td>\n      <td>660.000000</td>\n      <td>80.000000</td>\n      <td>42.000000</td>\n      <td>340.000000</td>\n      <td>2.000000</td>\n      <td>2.000000</td>\n      <td>2.000000</td>\n      <td>3.000000</td>\n    </tr>\n  </tbody>\n</table>\n</div>"
     },
     "metadata": {},
     "execution_count": 164
    }
   ],
   "source": [
    "annal_report.describe()"
   ]
  },
  {
   "cell_type": "code",
   "execution_count": 165,
   "metadata": {},
   "outputs": [
    {
     "output_type": "execute_result",
     "data": {
      "text/plain": [
       "                                                     id  ANCHEYEAR  FUNDAM  \\\n",
       "2      f000950527a6feb63ee1ce82bb22ddd1ab8b8fdffa3b91fb     2017.0     NaN   \n",
       "3      f000950527a6feb63ee1ce82bb22ddd1ab8b8fdffa3b91fb     2018.0     NaN   \n",
       "7      e9f7b28ec10e0470287f274dd5a327519e74d2eb9506faad     2016.0     NaN   \n",
       "8      e9f7b28ec10e0470287f274dd5a327519e74d2eb9506faad     2017.0     NaN   \n",
       "9      e9f7b28ec10e0470287f274dd5a327519e74d2eb9506faad     2018.0     NaN   \n",
       "...                                                 ...        ...     ...   \n",
       "22545  f000950527a6feb6bde38216d7cbbf32e66d3a3a96d4dbda     2015.0     NaN   \n",
       "22546  516ab81418ed215dcbbf0614a7b929e691f8eed153d7bb31     2015.0     NaN   \n",
       "22547  516ab81418ed215dcbbf0614a7b929e691f8eed153d7bb31     2016.0     NaN   \n",
       "22548  516ab81418ed215dcbbf0614a7b929e691f8eed153d7bb31     2017.0     NaN   \n",
       "22549  516ab81418ed215dcbbf0614a7b929e691f8eed153d7bb31     2018.0     NaN   \n",
       "\n",
       "       EMPNUM  EMPNUMSIGN BUSSTNAME  COLGRANUM  RETSOLNUM  DISPERNUM  UNENUM  \\\n",
       "2         4.0         2.0        开业        3.0        0.0        0.0     0.0   \n",
       "3         3.0         2.0        开业        1.0        0.0        0.0     0.0   \n",
       "7         8.0         2.0        开业        NaN        NaN        NaN     NaN   \n",
       "8         8.0         2.0        开业        NaN        NaN        NaN     NaN   \n",
       "9         1.0         2.0        开业        NaN        NaN        NaN     NaN   \n",
       "...       ...         ...       ...        ...        ...        ...     ...   \n",
       "22545     3.0         2.0        开业        1.0        0.0        0.0     0.0   \n",
       "22546     8.0         2.0        开业        0.0        0.0        0.0     0.0   \n",
       "22547     4.0         2.0        歇业        0.0        0.0        0.0     0.0   \n",
       "22548     4.0         2.0        歇业        0.0        0.0        0.0     0.0   \n",
       "22549     4.0         2.0        歇业        0.0        0.0        0.0     0.0   \n",
       "\n",
       "       COLEMPLNUM  RETEMPLNUM  DISEMPLNUM  UNEEMPLNUM  WEBSITSIGN  \\\n",
       "2             1.0         0.0         0.0         0.0         2.0   \n",
       "3             2.0         0.0         0.0         0.0         2.0   \n",
       "7             NaN         NaN         NaN         NaN         2.0   \n",
       "8             NaN         NaN         NaN         NaN         2.0   \n",
       "9             NaN         NaN         NaN         NaN         2.0   \n",
       "...           ...         ...         ...         ...         ...   \n",
       "22545         1.0         1.0         0.0         0.0         2.0   \n",
       "22546         0.0         0.0         0.0         0.0         2.0   \n",
       "22547         0.0         0.0         0.0         0.0         2.0   \n",
       "22548         0.0         0.0         0.0         0.0         2.0   \n",
       "22549         0.0         0.0         0.0         0.0         2.0   \n",
       "\n",
       "       FORINVESTSIGN  STOCKTRANSIGN  PUBSTATE  \n",
       "2                2.0            2.0       3.0  \n",
       "3                2.0            2.0       3.0  \n",
       "7                2.0            2.0       3.0  \n",
       "8                2.0            2.0       3.0  \n",
       "9                2.0            2.0       3.0  \n",
       "...              ...            ...       ...  \n",
       "22545            2.0            NaN       2.0  \n",
       "22546            2.0            2.0       3.0  \n",
       "22547            2.0            2.0       3.0  \n",
       "22548            2.0            2.0       3.0  \n",
       "22549            2.0            2.0       3.0  \n",
       "\n",
       "[14069 rows x 18 columns]"
      ],
      "text/html": "<div>\n<style scoped>\n    .dataframe tbody tr th:only-of-type {\n        vertical-align: middle;\n    }\n\n    .dataframe tbody tr th {\n        vertical-align: top;\n    }\n\n    .dataframe thead th {\n        text-align: right;\n    }\n</style>\n<table border=\"1\" class=\"dataframe\">\n  <thead>\n    <tr style=\"text-align: right;\">\n      <th></th>\n      <th>id</th>\n      <th>ANCHEYEAR</th>\n      <th>FUNDAM</th>\n      <th>EMPNUM</th>\n      <th>EMPNUMSIGN</th>\n      <th>BUSSTNAME</th>\n      <th>COLGRANUM</th>\n      <th>RETSOLNUM</th>\n      <th>DISPERNUM</th>\n      <th>UNENUM</th>\n      <th>COLEMPLNUM</th>\n      <th>RETEMPLNUM</th>\n      <th>DISEMPLNUM</th>\n      <th>UNEEMPLNUM</th>\n      <th>WEBSITSIGN</th>\n      <th>FORINVESTSIGN</th>\n      <th>STOCKTRANSIGN</th>\n      <th>PUBSTATE</th>\n    </tr>\n  </thead>\n  <tbody>\n    <tr>\n      <th>2</th>\n      <td>f000950527a6feb63ee1ce82bb22ddd1ab8b8fdffa3b91fb</td>\n      <td>2017.0</td>\n      <td>NaN</td>\n      <td>4.0</td>\n      <td>2.0</td>\n      <td>开业</td>\n      <td>3.0</td>\n      <td>0.0</td>\n      <td>0.0</td>\n      <td>0.0</td>\n      <td>1.0</td>\n      <td>0.0</td>\n      <td>0.0</td>\n      <td>0.0</td>\n      <td>2.0</td>\n      <td>2.0</td>\n      <td>2.0</td>\n      <td>3.0</td>\n    </tr>\n    <tr>\n      <th>3</th>\n      <td>f000950527a6feb63ee1ce82bb22ddd1ab8b8fdffa3b91fb</td>\n      <td>2018.0</td>\n      <td>NaN</td>\n      <td>3.0</td>\n      <td>2.0</td>\n      <td>开业</td>\n      <td>1.0</td>\n      <td>0.0</td>\n      <td>0.0</td>\n      <td>0.0</td>\n      <td>2.0</td>\n      <td>0.0</td>\n      <td>0.0</td>\n      <td>0.0</td>\n      <td>2.0</td>\n      <td>2.0</td>\n      <td>2.0</td>\n      <td>3.0</td>\n    </tr>\n    <tr>\n      <th>7</th>\n      <td>e9f7b28ec10e0470287f274dd5a327519e74d2eb9506faad</td>\n      <td>2016.0</td>\n      <td>NaN</td>\n      <td>8.0</td>\n      <td>2.0</td>\n      <td>开业</td>\n      <td>NaN</td>\n      <td>NaN</td>\n      <td>NaN</td>\n      <td>NaN</td>\n      <td>NaN</td>\n      <td>NaN</td>\n      <td>NaN</td>\n      <td>NaN</td>\n      <td>2.0</td>\n      <td>2.0</td>\n      <td>2.0</td>\n      <td>3.0</td>\n    </tr>\n    <tr>\n      <th>8</th>\n      <td>e9f7b28ec10e0470287f274dd5a327519e74d2eb9506faad</td>\n      <td>2017.0</td>\n      <td>NaN</td>\n      <td>8.0</td>\n      <td>2.0</td>\n      <td>开业</td>\n      <td>NaN</td>\n      <td>NaN</td>\n      <td>NaN</td>\n      <td>NaN</td>\n      <td>NaN</td>\n      <td>NaN</td>\n      <td>NaN</td>\n      <td>NaN</td>\n      <td>2.0</td>\n      <td>2.0</td>\n      <td>2.0</td>\n      <td>3.0</td>\n    </tr>\n    <tr>\n      <th>9</th>\n      <td>e9f7b28ec10e0470287f274dd5a327519e74d2eb9506faad</td>\n      <td>2018.0</td>\n      <td>NaN</td>\n      <td>1.0</td>\n      <td>2.0</td>\n      <td>开业</td>\n      <td>NaN</td>\n      <td>NaN</td>\n      <td>NaN</td>\n      <td>NaN</td>\n      <td>NaN</td>\n      <td>NaN</td>\n      <td>NaN</td>\n      <td>NaN</td>\n      <td>2.0</td>\n      <td>2.0</td>\n      <td>2.0</td>\n      <td>3.0</td>\n    </tr>\n    <tr>\n      <th>...</th>\n      <td>...</td>\n      <td>...</td>\n      <td>...</td>\n      <td>...</td>\n      <td>...</td>\n      <td>...</td>\n      <td>...</td>\n      <td>...</td>\n      <td>...</td>\n      <td>...</td>\n      <td>...</td>\n      <td>...</td>\n      <td>...</td>\n      <td>...</td>\n      <td>...</td>\n      <td>...</td>\n      <td>...</td>\n      <td>...</td>\n    </tr>\n    <tr>\n      <th>22545</th>\n      <td>f000950527a6feb6bde38216d7cbbf32e66d3a3a96d4dbda</td>\n      <td>2015.0</td>\n      <td>NaN</td>\n      <td>3.0</td>\n      <td>2.0</td>\n      <td>开业</td>\n      <td>1.0</td>\n      <td>0.0</td>\n      <td>0.0</td>\n      <td>0.0</td>\n      <td>1.0</td>\n      <td>1.0</td>\n      <td>0.0</td>\n      <td>0.0</td>\n      <td>2.0</td>\n      <td>2.0</td>\n      <td>NaN</td>\n      <td>2.0</td>\n    </tr>\n    <tr>\n      <th>22546</th>\n      <td>516ab81418ed215dcbbf0614a7b929e691f8eed153d7bb31</td>\n      <td>2015.0</td>\n      <td>NaN</td>\n      <td>8.0</td>\n      <td>2.0</td>\n      <td>开业</td>\n      <td>0.0</td>\n      <td>0.0</td>\n      <td>0.0</td>\n      <td>0.0</td>\n      <td>0.0</td>\n      <td>0.0</td>\n      <td>0.0</td>\n      <td>0.0</td>\n      <td>2.0</td>\n      <td>2.0</td>\n      <td>2.0</td>\n      <td>3.0</td>\n    </tr>\n    <tr>\n      <th>22547</th>\n      <td>516ab81418ed215dcbbf0614a7b929e691f8eed153d7bb31</td>\n      <td>2016.0</td>\n      <td>NaN</td>\n      <td>4.0</td>\n      <td>2.0</td>\n      <td>歇业</td>\n      <td>0.0</td>\n      <td>0.0</td>\n      <td>0.0</td>\n      <td>0.0</td>\n      <td>0.0</td>\n      <td>0.0</td>\n      <td>0.0</td>\n      <td>0.0</td>\n      <td>2.0</td>\n      <td>2.0</td>\n      <td>2.0</td>\n      <td>3.0</td>\n    </tr>\n    <tr>\n      <th>22548</th>\n      <td>516ab81418ed215dcbbf0614a7b929e691f8eed153d7bb31</td>\n      <td>2017.0</td>\n      <td>NaN</td>\n      <td>4.0</td>\n      <td>2.0</td>\n      <td>歇业</td>\n      <td>0.0</td>\n      <td>0.0</td>\n      <td>0.0</td>\n      <td>0.0</td>\n      <td>0.0</td>\n      <td>0.0</td>\n      <td>0.0</td>\n      <td>0.0</td>\n      <td>2.0</td>\n      <td>2.0</td>\n      <td>2.0</td>\n      <td>3.0</td>\n    </tr>\n    <tr>\n      <th>22549</th>\n      <td>516ab81418ed215dcbbf0614a7b929e691f8eed153d7bb31</td>\n      <td>2018.0</td>\n      <td>NaN</td>\n      <td>4.0</td>\n      <td>2.0</td>\n      <td>歇业</td>\n      <td>0.0</td>\n      <td>0.0</td>\n      <td>0.0</td>\n      <td>0.0</td>\n      <td>0.0</td>\n      <td>0.0</td>\n      <td>0.0</td>\n      <td>0.0</td>\n      <td>2.0</td>\n      <td>2.0</td>\n      <td>2.0</td>\n      <td>3.0</td>\n    </tr>\n  </tbody>\n</table>\n<p>14069 rows × 18 columns</p>\n</div>"
     },
     "metadata": {},
     "execution_count": 165
    }
   ],
   "source": [
    "annal_report[annal_report['EMPNUMSIGN']==2]"
   ]
  },
  {
   "cell_type": "code",
   "execution_count": 166,
   "metadata": {},
   "outputs": [
    {
     "output_type": "stream",
     "name": "stdout",
     "text": [
      "id 0\nANCHEYEAR 0\nFUNDAM 16848\nEMPNUM 15\nEMPNUMSIGN 5717\nBUSSTNAME 4870\nCOLGRANUM 2509\nRETSOLNUM 2509\nDISPERNUM 2509\nUNENUM 2509\nCOLEMPLNUM 2509\nRETEMPLNUM 2509\nDISEMPLNUM 2509\nUNEEMPLNUM 2509\nWEBSITSIGN 33\nFORINVESTSIGN 6061\nSTOCKTRANSIGN 9043\nPUBSTATE 20\n"
     ]
    }
   ],
   "source": [
    "for col in annal_report.columns:\n",
    "    print(col,annal_report[col].isnull().sum())"
   ]
  },
  {
   "source": [
    "FUNDAM 16848   //用中位数填充\n",
    "EMPNUM 15       //用中位数填充\n",
    "EMPNUMSIGN 5717  //用-1填充\n",
    "BUSSTNAME 4870    //换成 1 开业 0 歇业 -1 nan\n",
    "COLGRANUM 2509      //用中位数填充\n",
    "RETSOLNUM 2509      //用中位数填充\n",
    "DISPERNUM 2509      //用中位数填充\n",
    "UNENUM 2509         //中位数\n",
    "COLEMPLNUM 2509     //中位数 \n",
    "RETEMPLNUM 2509     //中位数\n",
    "DISEMPLNUM 2509     //中位数\n",
    "UNEEMPLNUM 2509     //中位数\n",
    "WEBSITSIGN 33       //中位数 or -1填充\n",
    "FORINVESTSIGN 6061      //-1填充\n",
    "STOCKTRANSIGN 9043      //-1填充\n",
    "PUBSTATE 20         //中位数or -1 "
   ],
   "cell_type": "markdown",
   "metadata": {}
  },
  {
   "cell_type": "code",
   "execution_count": 167,
   "metadata": {},
   "outputs": [
    {
     "output_type": "execute_result",
     "data": {
      "text/plain": [
       "                                                 id  ANCHEYEAR  FUNDAM  \\\n",
       "0  9c7fa510616a683058ce97d0bc768a621cd85ab1e87da2a3     2017.0     5.0   \n",
       "1  9c7fa510616a683058ce97d0bc768a621cd85ab1e87da2a3     2018.0     2.0   \n",
       "2  f000950527a6feb63ee1ce82bb22ddd1ab8b8fdffa3b91fb     2017.0     NaN   \n",
       "3  f000950527a6feb63ee1ce82bb22ddd1ab8b8fdffa3b91fb     2018.0     NaN   \n",
       "4  9c7fa510616a68309e4badf2a7a3123c0462fb85bf28ef17     2017.0     5.0   \n",
       "\n",
       "   EMPNUM  EMPNUMSIGN BUSSTNAME  COLGRANUM  RETSOLNUM  DISPERNUM  UNENUM  \\\n",
       "0    10.0         NaN       NaN        0.0        0.0        0.0     0.0   \n",
       "1     2.0         NaN       NaN        0.0        0.0        0.0     0.0   \n",
       "2     4.0         2.0        开业        3.0        0.0        0.0     0.0   \n",
       "3     3.0         2.0        开业        1.0        0.0        0.0     0.0   \n",
       "4    10.0         NaN       NaN        0.0        0.0        0.0     0.0   \n",
       "\n",
       "   COLEMPLNUM  RETEMPLNUM  DISEMPLNUM  UNEEMPLNUM  WEBSITSIGN  FORINVESTSIGN  \\\n",
       "0         0.0         0.0         0.0         0.0         2.0            NaN   \n",
       "1         0.0         0.0         0.0         0.0         2.0            NaN   \n",
       "2         1.0         0.0         0.0         0.0         2.0            2.0   \n",
       "3         2.0         0.0         0.0         0.0         2.0            2.0   \n",
       "4         0.0         0.0         0.0         0.0         2.0            NaN   \n",
       "\n",
       "   STOCKTRANSIGN  PUBSTATE  \n",
       "0            NaN       3.0  \n",
       "1            NaN       3.0  \n",
       "2            2.0       3.0  \n",
       "3            2.0       3.0  \n",
       "4            NaN       3.0  "
      ],
      "text/html": "<div>\n<style scoped>\n    .dataframe tbody tr th:only-of-type {\n        vertical-align: middle;\n    }\n\n    .dataframe tbody tr th {\n        vertical-align: top;\n    }\n\n    .dataframe thead th {\n        text-align: right;\n    }\n</style>\n<table border=\"1\" class=\"dataframe\">\n  <thead>\n    <tr style=\"text-align: right;\">\n      <th></th>\n      <th>id</th>\n      <th>ANCHEYEAR</th>\n      <th>FUNDAM</th>\n      <th>EMPNUM</th>\n      <th>EMPNUMSIGN</th>\n      <th>BUSSTNAME</th>\n      <th>COLGRANUM</th>\n      <th>RETSOLNUM</th>\n      <th>DISPERNUM</th>\n      <th>UNENUM</th>\n      <th>COLEMPLNUM</th>\n      <th>RETEMPLNUM</th>\n      <th>DISEMPLNUM</th>\n      <th>UNEEMPLNUM</th>\n      <th>WEBSITSIGN</th>\n      <th>FORINVESTSIGN</th>\n      <th>STOCKTRANSIGN</th>\n      <th>PUBSTATE</th>\n    </tr>\n  </thead>\n  <tbody>\n    <tr>\n      <th>0</th>\n      <td>9c7fa510616a683058ce97d0bc768a621cd85ab1e87da2a3</td>\n      <td>2017.0</td>\n      <td>5.0</td>\n      <td>10.0</td>\n      <td>NaN</td>\n      <td>NaN</td>\n      <td>0.0</td>\n      <td>0.0</td>\n      <td>0.0</td>\n      <td>0.0</td>\n      <td>0.0</td>\n      <td>0.0</td>\n      <td>0.0</td>\n      <td>0.0</td>\n      <td>2.0</td>\n      <td>NaN</td>\n      <td>NaN</td>\n      <td>3.0</td>\n    </tr>\n    <tr>\n      <th>1</th>\n      <td>9c7fa510616a683058ce97d0bc768a621cd85ab1e87da2a3</td>\n      <td>2018.0</td>\n      <td>2.0</td>\n      <td>2.0</td>\n      <td>NaN</td>\n      <td>NaN</td>\n      <td>0.0</td>\n      <td>0.0</td>\n      <td>0.0</td>\n      <td>0.0</td>\n      <td>0.0</td>\n      <td>0.0</td>\n      <td>0.0</td>\n      <td>0.0</td>\n      <td>2.0</td>\n      <td>NaN</td>\n      <td>NaN</td>\n      <td>3.0</td>\n    </tr>\n    <tr>\n      <th>2</th>\n      <td>f000950527a6feb63ee1ce82bb22ddd1ab8b8fdffa3b91fb</td>\n      <td>2017.0</td>\n      <td>NaN</td>\n      <td>4.0</td>\n      <td>2.0</td>\n      <td>开业</td>\n      <td>3.0</td>\n      <td>0.0</td>\n      <td>0.0</td>\n      <td>0.0</td>\n      <td>1.0</td>\n      <td>0.0</td>\n      <td>0.0</td>\n      <td>0.0</td>\n      <td>2.0</td>\n      <td>2.0</td>\n      <td>2.0</td>\n      <td>3.0</td>\n    </tr>\n    <tr>\n      <th>3</th>\n      <td>f000950527a6feb63ee1ce82bb22ddd1ab8b8fdffa3b91fb</td>\n      <td>2018.0</td>\n      <td>NaN</td>\n      <td>3.0</td>\n      <td>2.0</td>\n      <td>开业</td>\n      <td>1.0</td>\n      <td>0.0</td>\n      <td>0.0</td>\n      <td>0.0</td>\n      <td>2.0</td>\n      <td>0.0</td>\n      <td>0.0</td>\n      <td>0.0</td>\n      <td>2.0</td>\n      <td>2.0</td>\n      <td>2.0</td>\n      <td>3.0</td>\n    </tr>\n    <tr>\n      <th>4</th>\n      <td>9c7fa510616a68309e4badf2a7a3123c0462fb85bf28ef17</td>\n      <td>2017.0</td>\n      <td>5.0</td>\n      <td>10.0</td>\n      <td>NaN</td>\n      <td>NaN</td>\n      <td>0.0</td>\n      <td>0.0</td>\n      <td>0.0</td>\n      <td>0.0</td>\n      <td>0.0</td>\n      <td>0.0</td>\n      <td>0.0</td>\n      <td>0.0</td>\n      <td>2.0</td>\n      <td>NaN</td>\n      <td>NaN</td>\n      <td>3.0</td>\n    </tr>\n  </tbody>\n</table>\n</div>"
     },
     "metadata": {},
     "execution_count": 167
    }
   ],
   "source": [
    "annal_report.head()"
   ]
  },
  {
   "cell_type": "code",
   "execution_count": 168,
   "metadata": {},
   "outputs": [
    {
     "output_type": "execute_result",
     "data": {
      "text/plain": [
       "id                object\n",
       "ANCHEYEAR        float64\n",
       "FUNDAM           float64\n",
       "EMPNUM           float64\n",
       "EMPNUMSIGN       float64\n",
       "BUSSTNAME         object\n",
       "COLGRANUM        float64\n",
       "RETSOLNUM        float64\n",
       "DISPERNUM        float64\n",
       "UNENUM           float64\n",
       "COLEMPLNUM       float64\n",
       "RETEMPLNUM       float64\n",
       "DISEMPLNUM       float64\n",
       "UNEEMPLNUM       float64\n",
       "WEBSITSIGN       float64\n",
       "FORINVESTSIGN    float64\n",
       "STOCKTRANSIGN    float64\n",
       "PUBSTATE         float64\n",
       "dtype: object"
      ]
     },
     "metadata": {},
     "execution_count": 168
    }
   ],
   "source": [
    "annal_report.dtypes"
   ]
  },
  {
   "cell_type": "code",
   "execution_count": 169,
   "metadata": {},
   "outputs": [
    {
     "output_type": "stream",
     "name": "stdout",
     "text": [
      "id 0\nlabel 10000\n"
     ]
    }
   ],
   "source": [
    "entprise_evaluate.columns=['id','label']\n",
    "for column in entprise_evaluate.columns:\n",
    "    print(column,entprise_evaluate[column].isnull().sum())"
   ]
  },
  {
   "cell_type": "code",
   "execution_count": 170,
   "metadata": {},
   "outputs": [
    {
     "output_type": "execute_result",
     "data": {
      "text/plain": [
       "                                                 id  label\n",
       "0  59b38c56de3836831ff90a77d892a13523b7494f6ed09ff7    1.0\n",
       "1  da8691b210adb3f6be8064e006f220070565db287275ad38    0.0\n",
       "2  82750f1b9d122350918121f97c99bf96e11aa24ee91504a9    0.0\n",
       "3  f000950527a6feb6b2c6de6f85c1e7438ba5590be931e2ec    0.0\n",
       "4  f1c1045b13d1832927e3743e49d2917f2d98424f0849a373    0.0"
      ],
      "text/html": "<div>\n<style scoped>\n    .dataframe tbody tr th:only-of-type {\n        vertical-align: middle;\n    }\n\n    .dataframe tbody tr th {\n        vertical-align: top;\n    }\n\n    .dataframe thead th {\n        text-align: right;\n    }\n</style>\n<table border=\"1\" class=\"dataframe\">\n  <thead>\n    <tr style=\"text-align: right;\">\n      <th></th>\n      <th>id</th>\n      <th>label</th>\n    </tr>\n  </thead>\n  <tbody>\n    <tr>\n      <th>0</th>\n      <td>59b38c56de3836831ff90a77d892a13523b7494f6ed09ff7</td>\n      <td>1.0</td>\n    </tr>\n    <tr>\n      <th>1</th>\n      <td>da8691b210adb3f6be8064e006f220070565db287275ad38</td>\n      <td>0.0</td>\n    </tr>\n    <tr>\n      <th>2</th>\n      <td>82750f1b9d122350918121f97c99bf96e11aa24ee91504a9</td>\n      <td>0.0</td>\n    </tr>\n    <tr>\n      <th>3</th>\n      <td>f000950527a6feb6b2c6de6f85c1e7438ba5590be931e2ec</td>\n      <td>0.0</td>\n    </tr>\n    <tr>\n      <th>4</th>\n      <td>f1c1045b13d1832927e3743e49d2917f2d98424f0849a373</td>\n      <td>0.0</td>\n    </tr>\n  </tbody>\n</table>\n</div>"
     },
     "metadata": {},
     "execution_count": 170
    }
   ],
   "source": [
    "labels=pd.concat([entprise_info,entprise_evaluate])\n",
    "labels.head()"
   ]
  },
  {
   "cell_type": "code",
   "execution_count": 171,
   "metadata": {},
   "outputs": [
    {
     "output_type": "execute_result",
     "data": {
      "text/plain": [
       "id           0\n",
       "label    10000\n",
       "dtype: int64"
      ]
     },
     "metadata": {},
     "execution_count": 171
    }
   ],
   "source": [
    "labels.isnull().sum()"
   ]
  },
  {
   "cell_type": "code",
   "execution_count": 172,
   "metadata": {},
   "outputs": [],
   "source": [
    "annal=pd.merge(annal_report,labels,on='id',how='left')"
   ]
  },
  {
   "cell_type": "code",
   "execution_count": 173,
   "metadata": {},
   "outputs": [],
   "source": [
    "for col in ['FUNDAM','EMPNUM','COLGRANUM','RETSOLNUM','DISPERNUM','UNENUM','COLEMPLNUM','RETEMPLNUM','DISEMPLNUM','UNEEMPLNUM','WEBSITSIGN','PUBSTATE']:\n",
    "    annal[col]=annal[col].fillna(annal[col].median())\n",
    "\n",
    "for col in ['EMPNUMSIGN','FORINVESTSIGN','STOCKTRANSIGN']:\n",
    "    annal[col]=annal[col].fillna(-1).astype('int')\n",
    "\n",
    "lb=LabelEncoder()\n",
    "annal['BUSSTNAME']=lb.fit_transform(annal['BUSSTNAME'].astype(str))"
   ]
  },
  {
   "cell_type": "code",
   "execution_count": 174,
   "metadata": {},
   "outputs": [
    {
     "output_type": "stream",
     "name": "stdout",
     "text": [
      "id 0\nANCHEYEAR 0\nFUNDAM 0\nEMPNUM 0\nEMPNUMSIGN 0\nBUSSTNAME 0\nCOLGRANUM 0\nRETSOLNUM 0\nDISPERNUM 0\nUNENUM 0\nCOLEMPLNUM 0\nRETEMPLNUM 0\nDISEMPLNUM 0\nUNEEMPLNUM 0\nWEBSITSIGN 0\nFORINVESTSIGN 0\nSTOCKTRANSIGN 0\nPUBSTATE 0\nlabel 15730\n"
     ]
    }
   ],
   "source": [
    "for col in annal.columns:\n",
    "    print(col,annal[col].isnull().sum())"
   ]
  },
  {
   "cell_type": "code",
   "execution_count": 175,
   "metadata": {},
   "outputs": [
    {
     "output_type": "stream",
     "name": "stdout",
     "text": [
      "(6820, 19) (15730, 19)\n"
     ]
    }
   ],
   "source": [
    "train=annal[annal.label.notna()]\n",
    "test=annal[annal.label.isna()]\n",
    "print(train.shape,test.shape)"
   ]
  },
  {
   "cell_type": "code",
   "execution_count": 176,
   "metadata": {},
   "outputs": [],
   "source": [
    "model=lgb.LGBMClassifier(objective='binary',\n",
    "                           boosting_type='gbdt',\n",
    "                           tree_learner='serial',\n",
    "                           num_leaves=100,#调这个参数没用\n",
    "                           max_depth=12,#有点点用\n",
    "                           learning_rate=0.015,#别动\n",
    "                           n_estimators=100000,#没用\n",
    "                           subsample=0.8,\n",
    "                           feature_fraction=0.8,\n",
    "                           reg_alpha=0.3,\n",
    "                           reg_lambda=0.5,\n",
    "                           random_state=2020,\n",
    "                           is_unbalance=True)"
   ]
  }
 ]
}
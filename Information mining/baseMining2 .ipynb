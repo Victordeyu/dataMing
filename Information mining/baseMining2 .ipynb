{
 "metadata": {
  "language_info": {
   "codemirror_mode": {
    "name": "ipython",
    "version": 3
   },
   "file_extension": ".py",
   "mimetype": "text/x-python",
   "name": "python",
   "nbconvert_exporter": "python",
   "pygments_lexer": "ipython3",
   "version": "3.7.0-final"
  },
  "orig_nbformat": 2,
  "kernelspec": {
   "name": "python3",
   "display_name": "Python 3"
  }
 },
 "nbformat": 4,
 "nbformat_minor": 2,
 "cells": [
  {
   "cell_type": "code",
   "execution_count": 99,
   "metadata": {},
   "outputs": [],
   "source": [
    "import pandas as pd\n",
    "import numpy as np\n",
    "from tqdm.notebook import tqdm\n",
    "import sklearn\n",
    "from sklearn.preprocessing import LabelEncoder\n",
    "from sklearn.model_selection import StratifiedKFold\n",
    "from sklearn.metrics import f1_score,roc_auc_score"
   ]
  },
  {
   "cell_type": "code",
   "execution_count": 100,
   "metadata": {},
   "outputs": [],
   "source": [
    "entprise_info=pd.read_csv(\"entprise_info.csv\")\n",
    "entprise_evaluate=pd.read_csv(\"entprise_evaluate.csv\")\n",
    "base_info=pd.read_csv(\"base_info.csv\")"
   ]
  },
  {
   "cell_type": "code",
   "execution_count": 101,
   "metadata": {},
   "outputs": [
    {
     "output_type": "stream",
     "name": "stdout",
     "text": [
      "id 24865\noplocdistrict 16\nindustryphy 20\nindustryco 346\ndom 23278\nopscope 20815\nenttype 17\nenttypeitem 32\nopfrom 6620\nopto 5747\nstate 6\norgid 78\njobid 434\nadbusign 2\ntownsign 2\nregtype 3\nempnum 63\ncompform 3\nparnum 52\nexenum 51\nopform 34\nptbusscope 1\nvenind 4\nenttypeminu 27\nmidpreindcode 1\nprotype 3\noploc 5351\nregcap 1144\nreccap 598\nforreccap 12\nforregcap 39\ncongro 34\nenttypegb 53\n"
     ]
    }
   ],
   "source": [
    "for column in base_info.columns:\n",
    "    print(column,base_info[column].nunique(dropna=False))"
   ]
  },
  {
   "cell_type": "code",
   "execution_count": 102,
   "metadata": {},
   "outputs": [],
   "source": [
    "del base_info['ptbusscope']\n",
    "del base_info['dom']\n",
    "del base_info['midpreindcode']\n",
    "del base_info['opscope']"
   ]
  },
  {
   "cell_type": "code",
   "execution_count": 103,
   "metadata": {},
   "outputs": [],
   "source": [
    "base_info['opfrom']=pd.to_datetime(base_info.opfrom)\n",
    "base_info['opfrom_year']=base_info['opfrom'].dt.year.astype('int')"
   ]
  },
  {
   "cell_type": "code",
   "execution_count": 104,
   "metadata": {},
   "outputs": [],
   "source": [
    "base_info['opto']=pd.to_datetime(base_info.opto)\n",
    "base_info['opto_year']=base_info['opto'].dt.year.fillna(-1).astype('int')\n",
    "del base_info['opfrom']\n",
    "del base_info['opto']"
   ]
  },
  {
   "cell_type": "code",
   "execution_count": 105,
   "metadata": {},
   "outputs": [
    {
     "output_type": "execute_result",
     "data": {
      "text/plain": [
       "count    8437.000000\n",
       "mean        2.946545\n",
       "std         0.284933\n",
       "min         1.000000\n",
       "25%         3.000000\n",
       "50%         3.000000\n",
       "75%         3.000000\n",
       "max         3.000000\n",
       "Name: venind, dtype: float64"
      ]
     },
     "metadata": {},
     "execution_count": 105
    }
   ],
   "source": [
    "base_info['venind'].describe()"
   ]
  },
  {
   "cell_type": "code",
   "execution_count": 106,
   "metadata": {},
   "outputs": [
    {
     "output_type": "stream",
     "name": "stdout",
     "text": [
      "id 0\noplocdistrict 0\nindustryphy 0\nindustryco 1\nenttype 0\nenttypeitem 8214\nstate 0\norgid 0\njobid 0\nadbusign 0\ntownsign 0\nregtype 0\nempnum 5250\ncompform 14234\nparnum 22526\nexenum 23487\nopform 15865\nvenind 16428\nenttypeminu 17595\nprotype 24831\noploc 0\nregcap 191\nreccap 17781\nforreccap 24638\nforregcap 24615\ncongro 24616\nenttypegb 0\nopfrom_year 0\nopto_year 0\n"
     ]
    }
   ],
   "source": [
    "for column in base_info.columns:\n",
    "    print(column,base_info[column].isnull().sum())"
   ]
  },
  {
   "cell_type": "code",
   "execution_count": 75,
   "metadata": {},
   "outputs": [
    {
     "output_type": "execute_result",
     "data": {
      "text/plain": [
       "3.0       5284\n",
       "2.0       4678\n",
       "1.0       2308\n",
       "5.0       2059\n",
       "4.0       1213\n",
       "          ... \n",
       "1500.0       1\n",
       "300.0        1\n",
       "110.0        1\n",
       "49.0         1\n",
       "55.0         1\n",
       "Name: empnum, Length: 62, dtype: int64"
      ]
     },
     "metadata": {},
     "execution_count": 75
    }
   ],
   "source": []
  },
  {
   "cell_type": "code",
   "execution_count": 107,
   "metadata": {},
   "outputs": [],
   "source": [
    "#空缺值处理 由于是离散型取中值无意义 用-1填充\n",
    "for column in ['venind','industryco','enttypeitem','compform','enttypeminu','protype','industryco']:\n",
    "    base_info[column]=base_info[column].fillna(-1).astype('int')"
   ]
  },
  {
   "cell_type": "code",
   "execution_count": 108,
   "metadata": {},
   "outputs": [
    {
     "output_type": "execute_result",
     "data": {
      "text/plain": [
       "             empnum       parnum         exenum        regcap        reccap  \\\n",
       "count  19615.000000  2339.000000    1378.000000  2.467400e+04  7.084000e+03   \n",
       "mean       4.397961     4.587431      77.749637  5.151437e+03  4.198166e+03   \n",
       "std       15.389206     8.752047    2693.742692  6.777086e+04  3.653798e+04   \n",
       "min        0.000000     0.000000       0.000000  0.000000e+00  0.000000e+00   \n",
       "25%        2.000000     2.000000       1.000000  1.500000e+01  0.000000e+00   \n",
       "50%        3.000000     2.000000       1.000000  8.000000e+01  0.000000e+00   \n",
       "75%        5.000000     3.000000       3.000000  5.000000e+02  1.000000e+02   \n",
       "max     1500.000000   100.000000  100000.000000  5.000100e+06  1.278900e+06   \n",
       "\n",
       "          forreccap     forregcap         congro  \n",
       "count    227.000000    250.000000     249.000000  \n",
       "mean     292.644467   1212.583484    2805.259428  \n",
       "std     1841.310231   8113.267914   18131.954146  \n",
       "min        0.000000      0.000000       0.000000  \n",
       "25%        0.000000      0.000000       0.000000  \n",
       "50%        0.000000      0.000000       0.000000  \n",
       "75%        0.000000      0.000000       0.000000  \n",
       "max    15428.170000  88817.920450  221453.761350  "
      ],
      "text/html": "<div>\n<style scoped>\n    .dataframe tbody tr th:only-of-type {\n        vertical-align: middle;\n    }\n\n    .dataframe tbody tr th {\n        vertical-align: top;\n    }\n\n    .dataframe thead th {\n        text-align: right;\n    }\n</style>\n<table border=\"1\" class=\"dataframe\">\n  <thead>\n    <tr style=\"text-align: right;\">\n      <th></th>\n      <th>empnum</th>\n      <th>parnum</th>\n      <th>exenum</th>\n      <th>regcap</th>\n      <th>reccap</th>\n      <th>forreccap</th>\n      <th>forregcap</th>\n      <th>congro</th>\n    </tr>\n  </thead>\n  <tbody>\n    <tr>\n      <th>count</th>\n      <td>19615.000000</td>\n      <td>2339.000000</td>\n      <td>1378.000000</td>\n      <td>2.467400e+04</td>\n      <td>7.084000e+03</td>\n      <td>227.000000</td>\n      <td>250.000000</td>\n      <td>249.000000</td>\n    </tr>\n    <tr>\n      <th>mean</th>\n      <td>4.397961</td>\n      <td>4.587431</td>\n      <td>77.749637</td>\n      <td>5.151437e+03</td>\n      <td>4.198166e+03</td>\n      <td>292.644467</td>\n      <td>1212.583484</td>\n      <td>2805.259428</td>\n    </tr>\n    <tr>\n      <th>std</th>\n      <td>15.389206</td>\n      <td>8.752047</td>\n      <td>2693.742692</td>\n      <td>6.777086e+04</td>\n      <td>3.653798e+04</td>\n      <td>1841.310231</td>\n      <td>8113.267914</td>\n      <td>18131.954146</td>\n    </tr>\n    <tr>\n      <th>min</th>\n      <td>0.000000</td>\n      <td>0.000000</td>\n      <td>0.000000</td>\n      <td>0.000000e+00</td>\n      <td>0.000000e+00</td>\n      <td>0.000000</td>\n      <td>0.000000</td>\n      <td>0.000000</td>\n    </tr>\n    <tr>\n      <th>25%</th>\n      <td>2.000000</td>\n      <td>2.000000</td>\n      <td>1.000000</td>\n      <td>1.500000e+01</td>\n      <td>0.000000e+00</td>\n      <td>0.000000</td>\n      <td>0.000000</td>\n      <td>0.000000</td>\n    </tr>\n    <tr>\n      <th>50%</th>\n      <td>3.000000</td>\n      <td>2.000000</td>\n      <td>1.000000</td>\n      <td>8.000000e+01</td>\n      <td>0.000000e+00</td>\n      <td>0.000000</td>\n      <td>0.000000</td>\n      <td>0.000000</td>\n    </tr>\n    <tr>\n      <th>75%</th>\n      <td>5.000000</td>\n      <td>3.000000</td>\n      <td>3.000000</td>\n      <td>5.000000e+02</td>\n      <td>1.000000e+02</td>\n      <td>0.000000</td>\n      <td>0.000000</td>\n      <td>0.000000</td>\n    </tr>\n    <tr>\n      <th>max</th>\n      <td>1500.000000</td>\n      <td>100.000000</td>\n      <td>100000.000000</td>\n      <td>5.000100e+06</td>\n      <td>1.278900e+06</td>\n      <td>15428.170000</td>\n      <td>88817.920450</td>\n      <td>221453.761350</td>\n    </tr>\n  </tbody>\n</table>\n</div>"
     },
     "metadata": {},
     "execution_count": 108
    }
   ],
   "source": [
    "base_info.select_dtypes(['float64']).describe()"
   ]
  },
  {
   "cell_type": "code",
   "execution_count": 109,
   "metadata": {},
   "outputs": [],
   "source": [
    "for column in base_info.select_dtypes(['float64']).columns:\n",
    "    base_info[column]=base_info[column].fillna(base_info[column].median())"
   ]
  },
  {
   "cell_type": "code",
   "execution_count": 110,
   "metadata": {},
   "outputs": [
    {
     "output_type": "stream",
     "name": "stdout",
     "text": [
      "id 0\n",
      "oplocdistrict 0\n",
      "industryphy 0\n",
      "industryco 0\n",
      "enttype 0\n",
      "enttypeitem 0\n",
      "state 0\n",
      "orgid 0\n",
      "jobid 0\n",
      "adbusign 0\n",
      "townsign 0\n",
      "regtype 0\n",
      "empnum 0\n",
      "compform 0\n",
      "parnum 0\n",
      "exenum 0\n",
      "opform 15865\n",
      "venind 0\n",
      "enttypeminu 0\n",
      "protype 0\n",
      "oploc 0\n",
      "regcap 0\n",
      "reccap 0\n",
      "forreccap 0\n",
      "forregcap 0\n",
      "congro 0\n",
      "enttypegb 0\n",
      "opfrom_year 0\n",
      "opto_year 0\n"
     ]
    }
   ],
   "source": [
    "for column in base_info.columns:\n",
    "    print(column,base_info[column].isnull().sum())"
   ]
  },
  {
   "cell_type": "code",
   "execution_count": 111,
   "metadata": {},
   "outputs": [
    {
     "output_type": "execute_result",
     "data": {
      "text/plain": [
       "                                                     id industryphy  \\\n",
       "0      47645761dc56bb8c5fae00114b768b5d9b6e917c3aec07c4           M   \n",
       "1      9c7fa510616a683058ce97d0bc768a621cd85ab1e87da2a3           O   \n",
       "2      59b38c56de3836838082cfcb1a298951abfe15e6940c49ba           R   \n",
       "3      e9f7b28ec10e047000d16ab79e1b5e6da434a1697cce7818           L   \n",
       "4      f000950527a6feb63ee1ce82bb22ddd1ab8b8fdffa3b91fb           R   \n",
       "...                                                 ...         ...   \n",
       "24860  f1c1045b13d18329a2bd99d2a7e2227688c0d69bf1d1e325           O   \n",
       "24861  f000950527a6feb6bde38216d7cbbf32e66d3a3a96d4dbda           J   \n",
       "24862  da8691b210adb3f65b43370d3a362f4aa1d3b16b5ba0c9d7           O   \n",
       "24863  516ab81418ed215dcbbf0614a7b929e691f8eed153d7bb31           O   \n",
       "24864  9c7fa510616a68303d3427d4bfd4b0cf3e4843f2bf3f637a           N   \n",
       "\n",
       "           opform                                              oploc  \n",
       "0             NaN                                   2367b4cac96d8598  \n",
       "1              10  31487d8f256f16bd6244b7251be2ebb27b17bdfd95c8f3...  \n",
       "2             NaN                                   2367b4cac96d8598  \n",
       "3      01-以个人财产出资                                   2367b4cac96d8598  \n",
       "4             NaN                                   2367b4cac96d8598  \n",
       "...           ...                                                ...  \n",
       "24860          10  f67c1b92f52ac52e424308ab51241cdef9be3e39c8e1c6...  \n",
       "24861         NaN                                   2367b4cac96d8598  \n",
       "24862          10                                   2367b4cac96d8598  \n",
       "24863         NaN                                   2367b4cac96d8598  \n",
       "24864          10  31487d8f256f16bd6244b7251be2ebb27b17bdfd95c8f3...  \n",
       "\n",
       "[24865 rows x 4 columns]"
      ],
      "text/html": "<div>\n<style scoped>\n    .dataframe tbody tr th:only-of-type {\n        vertical-align: middle;\n    }\n\n    .dataframe tbody tr th {\n        vertical-align: top;\n    }\n\n    .dataframe thead th {\n        text-align: right;\n    }\n</style>\n<table border=\"1\" class=\"dataframe\">\n  <thead>\n    <tr style=\"text-align: right;\">\n      <th></th>\n      <th>id</th>\n      <th>industryphy</th>\n      <th>opform</th>\n      <th>oploc</th>\n    </tr>\n  </thead>\n  <tbody>\n    <tr>\n      <th>0</th>\n      <td>47645761dc56bb8c5fae00114b768b5d9b6e917c3aec07c4</td>\n      <td>M</td>\n      <td>NaN</td>\n      <td>2367b4cac96d8598</td>\n    </tr>\n    <tr>\n      <th>1</th>\n      <td>9c7fa510616a683058ce97d0bc768a621cd85ab1e87da2a3</td>\n      <td>O</td>\n      <td>10</td>\n      <td>31487d8f256f16bd6244b7251be2ebb27b17bdfd95c8f3...</td>\n    </tr>\n    <tr>\n      <th>2</th>\n      <td>59b38c56de3836838082cfcb1a298951abfe15e6940c49ba</td>\n      <td>R</td>\n      <td>NaN</td>\n      <td>2367b4cac96d8598</td>\n    </tr>\n    <tr>\n      <th>3</th>\n      <td>e9f7b28ec10e047000d16ab79e1b5e6da434a1697cce7818</td>\n      <td>L</td>\n      <td>01-以个人财产出资</td>\n      <td>2367b4cac96d8598</td>\n    </tr>\n    <tr>\n      <th>4</th>\n      <td>f000950527a6feb63ee1ce82bb22ddd1ab8b8fdffa3b91fb</td>\n      <td>R</td>\n      <td>NaN</td>\n      <td>2367b4cac96d8598</td>\n    </tr>\n    <tr>\n      <th>...</th>\n      <td>...</td>\n      <td>...</td>\n      <td>...</td>\n      <td>...</td>\n    </tr>\n    <tr>\n      <th>24860</th>\n      <td>f1c1045b13d18329a2bd99d2a7e2227688c0d69bf1d1e325</td>\n      <td>O</td>\n      <td>10</td>\n      <td>f67c1b92f52ac52e424308ab51241cdef9be3e39c8e1c6...</td>\n    </tr>\n    <tr>\n      <th>24861</th>\n      <td>f000950527a6feb6bde38216d7cbbf32e66d3a3a96d4dbda</td>\n      <td>J</td>\n      <td>NaN</td>\n      <td>2367b4cac96d8598</td>\n    </tr>\n    <tr>\n      <th>24862</th>\n      <td>da8691b210adb3f65b43370d3a362f4aa1d3b16b5ba0c9d7</td>\n      <td>O</td>\n      <td>10</td>\n      <td>2367b4cac96d8598</td>\n    </tr>\n    <tr>\n      <th>24863</th>\n      <td>516ab81418ed215dcbbf0614a7b929e691f8eed153d7bb31</td>\n      <td>O</td>\n      <td>NaN</td>\n      <td>2367b4cac96d8598</td>\n    </tr>\n    <tr>\n      <th>24864</th>\n      <td>9c7fa510616a68303d3427d4bfd4b0cf3e4843f2bf3f637a</td>\n      <td>N</td>\n      <td>10</td>\n      <td>31487d8f256f16bd6244b7251be2ebb27b17bdfd95c8f3...</td>\n    </tr>\n  </tbody>\n</table>\n<p>24865 rows × 4 columns</p>\n</div>"
     },
     "metadata": {},
     "execution_count": 111
    }
   ],
   "source": [
    "base_info.select_dtypes(['object'])"
   ]
  },
  {
   "cell_type": "code",
   "execution_count": 112,
   "metadata": {},
   "outputs": [],
   "source": [
    "base_info['opform'] = base_info['opform'].replace('01', '01-以个人财产出资').replace('02', '02-以家庭共有财产作为个人出资')"
   ]
  },
  {
   "cell_type": "code",
   "execution_count": 113,
   "metadata": {},
   "outputs": [
    {
     "output_type": "execute_result",
     "data": {
      "text/plain": [
       "2367b4cac96d8598                                                                    0.755761\n",
       "31487d8f256f16bd6244b7251be2ebb27b17bdfd95c8f3b19ffcd2880f506783bee75565895bdbb5    0.013553\n",
       "31487d8f256f16bd6244b7251be2ebb2ae36cd652943e86c8f0d6a96cbb90e3b                    0.001046\n",
       "31487d8f256f16bd6244b7251be2ebb24d1db51663c654f53b92066f5b24275c                    0.000684\n",
       "ca213febe80e171cf62c2ed671ebb5cbf19e3fe4b5809fbb                                    0.000684\n",
       "Name: oploc, dtype: float64"
      ]
     },
     "metadata": {},
     "execution_count": 113
    }
   ],
   "source": [
    "vc=base_info['oploc'].value_counts(dropna=True,normalize=True)\n",
    "vc.head()"
   ]
  },
  {
   "cell_type": "code",
   "execution_count": 114,
   "metadata": {},
   "outputs": [],
   "source": [
    "for column in ['industryphy', 'opform', 'oploc', 'orgid', 'jobid', 'oplocdistrict','enttypegb', 'industryco', 'enttype', 'enttypeitem']:\n",
    "    lb=LabelEncoder()\n",
    "    base_info[column]=lb.fit_transform(base_info[column].astype(str))\n",
    "    fre=base_info[column].value_counts(dropna=True,normalize=True).to_dict()\n",
    "    base_info[f'{column}_freq']=base_info[column].map(fre)"
   ]
  },
  {
   "cell_type": "code",
   "execution_count": 115,
   "metadata": {},
   "outputs": [],
   "source": [
    "del base_info['venind']\n",
    "del base_info['congro']\n",
    "del base_info['protype']\n",
    "del base_info['parnum']\n",
    "del base_info['opform']\n",
    "del base_info['opform_freq']\n",
    "del base_info['exenum']\n",
    "del base_info['forregcap']\n",
    "del base_info['forreccap']"
   ]
  },
  {
   "cell_type": "code",
   "execution_count": 116,
   "metadata": {},
   "outputs": [],
   "source": [
    "entprise_evaluate.columns=['id','label'] "
   ]
  },
  {
   "cell_type": "code",
   "execution_count": 117,
   "metadata": {},
   "outputs": [
    {
     "output_type": "stream",
     "name": "stdout",
     "text": [
      "id 0\nlabel 10000\n"
     ]
    }
   ],
   "source": [
    "for column in entprise_evaluate.columns:\n",
    "    print(column,entprise_evaluate[column].isnull().sum())"
   ]
  },
  {
   "cell_type": "code",
   "execution_count": 118,
   "metadata": {},
   "outputs": [
    {
     "output_type": "execute_result",
     "data": {
      "text/plain": [
       "                                                 id  label\n",
       "0  59b38c56de3836831ff90a77d892a13523b7494f6ed09ff7    1.0\n",
       "1  da8691b210adb3f6be8064e006f220070565db287275ad38    0.0\n",
       "2  82750f1b9d122350918121f97c99bf96e11aa24ee91504a9    0.0\n",
       "3  f000950527a6feb6b2c6de6f85c1e7438ba5590be931e2ec    0.0\n",
       "4  f1c1045b13d1832927e3743e49d2917f2d98424f0849a373    0.0"
      ],
      "text/html": "<div>\n<style scoped>\n    .dataframe tbody tr th:only-of-type {\n        vertical-align: middle;\n    }\n\n    .dataframe tbody tr th {\n        vertical-align: top;\n    }\n\n    .dataframe thead th {\n        text-align: right;\n    }\n</style>\n<table border=\"1\" class=\"dataframe\">\n  <thead>\n    <tr style=\"text-align: right;\">\n      <th></th>\n      <th>id</th>\n      <th>label</th>\n    </tr>\n  </thead>\n  <tbody>\n    <tr>\n      <th>0</th>\n      <td>59b38c56de3836831ff90a77d892a13523b7494f6ed09ff7</td>\n      <td>1.0</td>\n    </tr>\n    <tr>\n      <th>1</th>\n      <td>da8691b210adb3f6be8064e006f220070565db287275ad38</td>\n      <td>0.0</td>\n    </tr>\n    <tr>\n      <th>2</th>\n      <td>82750f1b9d122350918121f97c99bf96e11aa24ee91504a9</td>\n      <td>0.0</td>\n    </tr>\n    <tr>\n      <th>3</th>\n      <td>f000950527a6feb6b2c6de6f85c1e7438ba5590be931e2ec</td>\n      <td>0.0</td>\n    </tr>\n    <tr>\n      <th>4</th>\n      <td>f1c1045b13d1832927e3743e49d2917f2d98424f0849a373</td>\n      <td>0.0</td>\n    </tr>\n  </tbody>\n</table>\n</div>"
     },
     "metadata": {},
     "execution_count": 118
    }
   ],
   "source": [
    "labels=pd.concat([entprise_info,entprise_evaluate])\n",
    "labels.head()"
   ]
  },
  {
   "cell_type": "code",
   "execution_count": 119,
   "metadata": {},
   "outputs": [],
   "source": [
    "df=pd.merge(base_info,labels,on='id',how='left')\n",
    "df[[col for col in df.columns if col!='label']].fillna(-1,inplace=True)"
   ]
  },
  {
   "cell_type": "code",
   "execution_count": 120,
   "metadata": {},
   "outputs": [
    {
     "output_type": "stream",
     "name": "stdout",
     "text": [
      "(14865, 31) (10000, 31)\n"
     ]
    }
   ],
   "source": [
    "train=df[df.label.notna()]\n",
    "test=df[df.label.isna()]\n",
    "print(train.shape,test.shape)"
   ]
  },
  {
   "cell_type": "code",
   "execution_count": 121,
   "metadata": {},
   "outputs": [],
   "source": [
    "import lightgbm as lgb"
   ]
  },
  {
   "cell_type": "code",
   "execution_count": 122,
   "metadata": {},
   "outputs": [],
   "source": [
    "model=lgb.LGBMClassifier(objective='binary',\n",
    "                           boosting_type='gbdt',\n",
    "                           tree_learner='serial',\n",
    "                           num_leaves=64,\n",
    "                           max_depth=8,\n",
    "                           learning_rate=0.02,\n",
    "                           n_estimators=10000,\n",
    "                           subsample=0.8,\n",
    "                           feature_fraction=0.8,\n",
    "                           reg_alpha=0.3,\n",
    "                           reg_lambda=0.5,\n",
    "                           random_state=2020,\n",
    "                           is_unbalance=True)"
   ]
  },
  {
   "source": [
    "ycol='label'\n",
    "feature_names=list(filter(lambda x: x not in [ycol,'id'],train.columns))\n",
    "def f1_score_custom(y_t,y_p):\n",
    "    y_p=y_p.round()\n",
    "    return 'f1',f1_score(y_t,y_p),True\n"
   ],
   "cell_type": "code",
   "metadata": {},
   "execution_count": 123,
   "outputs": []
  },
  {
   "cell_type": "code",
   "execution_count": 124,
   "metadata": {},
   "outputs": [],
   "source": [
    "oof = []\n",
    "prediction = test[['id']]\n",
    "prediction[f'{ycol}_0'] = 0\n",
    "prediction[f'{ycol}_1'] = 0\n",
    "df_importance_list = []"
   ]
  },
  {
   "cell_type": "code",
   "execution_count": 125,
   "metadata": {},
   "outputs": [
    {
     "output_type": "stream",
     "name": "stdout",
     "text": [
      "[LightGBM] [Warning] feature_fraction is set=0.8, colsample_bytree=1.0 will be ignored. Current value: feature_fraction=0.8\n",
      "Training until validation scores don't improve for 50 rounds\n",
      "Early stopping, best iteration is:\n",
      "[42]\ttrain's binary_logloss: 0.09355\ttrain's f1: 0.813034\tvalid's binary_logloss: 0.0917691\tvalid's f1: 0.835616\n",
      "[LightGBM] [Warning] feature_fraction is set=0.8, colsample_bytree=1.0 will be ignored. Current value: feature_fraction=0.8\n",
      "Training until validation scores don't improve for 50 rounds\n",
      "Early stopping, best iteration is:\n",
      "[34]\ttrain's binary_logloss: 0.100728\ttrain's f1: 0.819914\tvalid's binary_logloss: 0.105505\tvalid's f1: 0.797136\n",
      "[LightGBM] [Warning] feature_fraction is set=0.8, colsample_bytree=1.0 will be ignored. Current value: feature_fraction=0.8\n",
      "Training until validation scores don't improve for 50 rounds\n",
      "Early stopping, best iteration is:\n",
      "[35]\ttrain's binary_logloss: 0.0990984\ttrain's f1: 0.826698\tvalid's binary_logloss: 0.104939\tvalid's f1: 0.794521\n",
      "[LightGBM] [Warning] feature_fraction is set=0.8, colsample_bytree=1.0 will be ignored. Current value: feature_fraction=0.8\n",
      "Training until validation scores don't improve for 50 rounds\n",
      "Early stopping, best iteration is:\n",
      "[33]\ttrain's binary_logloss: 0.101255\ttrain's f1: 0.793794\tvalid's binary_logloss: 0.104774\tvalid's f1: 0.785714\n",
      "[LightGBM] [Warning] feature_fraction is set=0.8, colsample_bytree=1.0 will be ignored. Current value: feature_fraction=0.8\n",
      "Training until validation scores don't improve for 50 rounds\n",
      "Early stopping, best iteration is:\n",
      "[38]\ttrain's binary_logloss: 0.0966133\ttrain's f1: 0.820485\tvalid's binary_logloss: 0.0982943\tvalid's f1: 0.826185\n"
     ]
    }
   ],
   "source": [
    "\n",
    "kfold=StratifiedKFold(n_splits=5,shuffle=True,random_state=2020)\n",
    "for fold_id,(trn_idx,val_idx) in enumerate(kfold.split(train[feature_names],train[ycol])):\n",
    "    X_train = train.iloc[trn_idx][feature_names]\n",
    "    Y_train = train.iloc[trn_idx][ycol]\n",
    "\n",
    "    X_val = train.iloc[val_idx][feature_names]\n",
    "    Y_val = train.iloc[val_idx][ycol]\n",
    "\n",
    "    lgb_model=model.fit(X_train,Y_train,\n",
    "                        eval_names=['train', 'valid'],\n",
    "                        eval_set=[(X_train, Y_train), (X_val, Y_val)],\n",
    "                        verbose=500,\n",
    "                        eval_metric=lambda y_true, y_pred: f1_score_custom(y_true, y_pred),\n",
    "                        early_stopping_rounds=50)\n",
    "\n",
    "    pred_val=lgb_model.predict_proba(X_val,num_iteration=lgb_model.best_iteration_)\n",
    "    df_oof=train.iloc[val_idx][['id',ycol]].copy()\n",
    "    df_oof[f'{ycol}_0']=pred_val[:,0]\n",
    "    df_oof[f'{ycol}_1']=pred_val[:,1]\n",
    "    oof.append(df_oof)\n",
    "\n",
    "    pred_test=lgb_model.predict_proba(test[feature_names],num_iteration=lgb_model.best_iteration_)\n",
    "    prediction[f'{ycol}_0']+=pred_test[:,0]/kfold.n_splits\n",
    "    prediction[f'{ycol}_1']+=pred_test[:,1]/kfold.n_splits\n",
    "\n",
    "    df_importance=pd.DataFrame({\n",
    "        'column':feature_names,\n",
    "        'importance':lgb_model.feature_importances_,\n",
    "    })\n",
    "    df_importance_list.append(df_importance)\n",
    "\n"
   ]
  },
  {
   "cell_type": "code",
   "execution_count": 126,
   "metadata": {},
   "outputs": [
    {
     "output_type": "execute_result",
     "data": {
      "text/plain": [
       "                column  importance\n",
       "0           industryco       101.4\n",
       "1               regcap        75.8\n",
       "2       enttypegb_freq        60.6\n",
       "3          opfrom_year        51.8\n",
       "4           jobid_freq        45.6\n",
       "5               reccap        44.0\n",
       "6            enttypegb        41.6\n",
       "7          industryphy        39.8\n",
       "8      industryco_freq        33.6\n",
       "9                jobid        31.8\n",
       "10              empnum        28.4\n",
       "11          orgid_freq        27.8\n",
       "12           opto_year        27.4\n",
       "13         enttypeitem        13.2\n",
       "14    industryphy_freq        12.2\n",
       "15             enttype        12.0\n",
       "16    enttypeitem_freq         7.6\n",
       "17         enttypeminu         6.0\n",
       "18               state         4.4\n",
       "19               orgid         4.2\n",
       "20            townsign         2.4\n",
       "21             regtype         2.2\n",
       "22       oplocdistrict         1.8\n",
       "23  oplocdistrict_freq         1.6\n",
       "24            adbusign         1.6\n",
       "25            compform         0.6\n",
       "26        enttype_freq         0.4\n",
       "27               oploc         0.0\n",
       "28          oploc_freq         0.0"
      ],
      "text/html": "<div>\n<style scoped>\n    .dataframe tbody tr th:only-of-type {\n        vertical-align: middle;\n    }\n\n    .dataframe tbody tr th {\n        vertical-align: top;\n    }\n\n    .dataframe thead th {\n        text-align: right;\n    }\n</style>\n<table border=\"1\" class=\"dataframe\">\n  <thead>\n    <tr style=\"text-align: right;\">\n      <th></th>\n      <th>column</th>\n      <th>importance</th>\n    </tr>\n  </thead>\n  <tbody>\n    <tr>\n      <th>0</th>\n      <td>industryco</td>\n      <td>101.4</td>\n    </tr>\n    <tr>\n      <th>1</th>\n      <td>regcap</td>\n      <td>75.8</td>\n    </tr>\n    <tr>\n      <th>2</th>\n      <td>enttypegb_freq</td>\n      <td>60.6</td>\n    </tr>\n    <tr>\n      <th>3</th>\n      <td>opfrom_year</td>\n      <td>51.8</td>\n    </tr>\n    <tr>\n      <th>4</th>\n      <td>jobid_freq</td>\n      <td>45.6</td>\n    </tr>\n    <tr>\n      <th>5</th>\n      <td>reccap</td>\n      <td>44.0</td>\n    </tr>\n    <tr>\n      <th>6</th>\n      <td>enttypegb</td>\n      <td>41.6</td>\n    </tr>\n    <tr>\n      <th>7</th>\n      <td>industryphy</td>\n      <td>39.8</td>\n    </tr>\n    <tr>\n      <th>8</th>\n      <td>industryco_freq</td>\n      <td>33.6</td>\n    </tr>\n    <tr>\n      <th>9</th>\n      <td>jobid</td>\n      <td>31.8</td>\n    </tr>\n    <tr>\n      <th>10</th>\n      <td>empnum</td>\n      <td>28.4</td>\n    </tr>\n    <tr>\n      <th>11</th>\n      <td>orgid_freq</td>\n      <td>27.8</td>\n    </tr>\n    <tr>\n      <th>12</th>\n      <td>opto_year</td>\n      <td>27.4</td>\n    </tr>\n    <tr>\n      <th>13</th>\n      <td>enttypeitem</td>\n      <td>13.2</td>\n    </tr>\n    <tr>\n      <th>14</th>\n      <td>industryphy_freq</td>\n      <td>12.2</td>\n    </tr>\n    <tr>\n      <th>15</th>\n      <td>enttype</td>\n      <td>12.0</td>\n    </tr>\n    <tr>\n      <th>16</th>\n      <td>enttypeitem_freq</td>\n      <td>7.6</td>\n    </tr>\n    <tr>\n      <th>17</th>\n      <td>enttypeminu</td>\n      <td>6.0</td>\n    </tr>\n    <tr>\n      <th>18</th>\n      <td>state</td>\n      <td>4.4</td>\n    </tr>\n    <tr>\n      <th>19</th>\n      <td>orgid</td>\n      <td>4.2</td>\n    </tr>\n    <tr>\n      <th>20</th>\n      <td>townsign</td>\n      <td>2.4</td>\n    </tr>\n    <tr>\n      <th>21</th>\n      <td>regtype</td>\n      <td>2.2</td>\n    </tr>\n    <tr>\n      <th>22</th>\n      <td>oplocdistrict</td>\n      <td>1.8</td>\n    </tr>\n    <tr>\n      <th>23</th>\n      <td>oplocdistrict_freq</td>\n      <td>1.6</td>\n    </tr>\n    <tr>\n      <th>24</th>\n      <td>adbusign</td>\n      <td>1.6</td>\n    </tr>\n    <tr>\n      <th>25</th>\n      <td>compform</td>\n      <td>0.6</td>\n    </tr>\n    <tr>\n      <th>26</th>\n      <td>enttype_freq</td>\n      <td>0.4</td>\n    </tr>\n    <tr>\n      <th>27</th>\n      <td>oploc</td>\n      <td>0.0</td>\n    </tr>\n    <tr>\n      <th>28</th>\n      <td>oploc_freq</td>\n      <td>0.0</td>\n    </tr>\n  </tbody>\n</table>\n</div>"
     },
     "metadata": {},
     "execution_count": 126
    }
   ],
   "source": [
    "df_importance = pd.concat(df_importance_list)\n",
    "df_importance = df_importance.groupby(['column'])['importance'].agg(\n",
    "    'mean').sort_values(ascending=False).reset_index()\n",
    "df_importance"
   ]
  },
  {
   "cell_type": "code",
   "execution_count": 127,
   "metadata": {},
   "outputs": [],
   "source": [
    "df_oof=pd.concat(oof)\n",
    "score=f1_score(df_oof[ycol].astype('int'),np.argmax(df_oof[['label_0', 'label_1']].values, axis=1).astype('int'))\n"
   ]
  },
  {
   "cell_type": "code",
   "execution_count": 128,
   "metadata": {},
   "outputs": [
    {
     "output_type": "execute_result",
     "data": {
      "text/plain": [
       "0.8084507042253521"
      ]
     },
     "metadata": {},
     "execution_count": 128
    }
   ],
   "source": [
    "score"
   ]
  },
  {
   "cell_type": "code",
   "execution_count": 129,
   "metadata": {},
   "outputs": [
    {
     "output_type": "execute_result",
     "data": {
      "text/plain": [
       "                                                 id     score\n",
       "0  82750f1b9d1223508ee329d47e27d35176c93eb9f35e9c1a  0.051506\n",
       "1  f000950527a6feb670cc1c87c2025f3922aaa4a0206a0a33  0.522571\n",
       "2  e9f7b28ec10e04700ef4db75a494f9a1e8e8b09555e6afa1  0.031967\n",
       "3  beb4aaaa89e0a0ae9d77bd5d7665be6342f552f51840cf19  0.031966\n",
       "4  e9f7b28ec10e0470ee4172cec0133b6826c34f27d3dff204  0.048287"
      ],
      "text/html": "<div>\n<style scoped>\n    .dataframe tbody tr th:only-of-type {\n        vertical-align: middle;\n    }\n\n    .dataframe tbody tr th {\n        vertical-align: top;\n    }\n\n    .dataframe thead th {\n        text-align: right;\n    }\n</style>\n<table border=\"1\" class=\"dataframe\">\n  <thead>\n    <tr style=\"text-align: right;\">\n      <th></th>\n      <th>id</th>\n      <th>score</th>\n    </tr>\n  </thead>\n  <tbody>\n    <tr>\n      <th>0</th>\n      <td>82750f1b9d1223508ee329d47e27d35176c93eb9f35e9c1a</td>\n      <td>0.051506</td>\n    </tr>\n    <tr>\n      <th>1</th>\n      <td>f000950527a6feb670cc1c87c2025f3922aaa4a0206a0a33</td>\n      <td>0.522571</td>\n    </tr>\n    <tr>\n      <th>2</th>\n      <td>e9f7b28ec10e04700ef4db75a494f9a1e8e8b09555e6afa1</td>\n      <td>0.031967</td>\n    </tr>\n    <tr>\n      <th>3</th>\n      <td>beb4aaaa89e0a0ae9d77bd5d7665be6342f552f51840cf19</td>\n      <td>0.031966</td>\n    </tr>\n    <tr>\n      <th>4</th>\n      <td>e9f7b28ec10e0470ee4172cec0133b6826c34f27d3dff204</td>\n      <td>0.048287</td>\n    </tr>\n  </tbody>\n</table>\n</div>"
     },
     "metadata": {},
     "execution_count": 129
    }
   ],
   "source": [
    "res=prediction[['id','label_1']]\n",
    "res.columns=['id','score']\n",
    "\n",
    "res=pd.merge(entprise_evaluate,res,on='id',how='left')\n",
    "res.drop(['label'],axis=1,inplace=True)\n",
    "\n",
    "res.head()"
   ]
  },
  {
   "cell_type": "code",
   "execution_count": 130,
   "metadata": {},
   "outputs": [],
   "source": [
    "res.to_csv(f'baseMining2_{score}.csv',index=False)"
   ]
  }
 ]
}